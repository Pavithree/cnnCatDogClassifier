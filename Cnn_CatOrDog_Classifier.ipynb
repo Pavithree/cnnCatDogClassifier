{
 "cells": [
  {
   "cell_type": "code",
   "execution_count": 3,
   "metadata": {},
   "outputs": [],
   "source": [
    "import tensorflow as tf\n",
    "from keras.preprocessing.image import ImageDataGenerator\n",
    "from IPython.display import display\n",
    "from PIL import Image\n",
    "import PIL.Image\n"
   ]
  },
  {
   "cell_type": "code",
   "execution_count": 4,
   "metadata": {},
   "outputs": [
    {
     "name": "stdout",
     "output_type": "stream",
     "text": [
      "Found 8000 images belonging to 2 classes.\n"
     ]
    }
   ],
   "source": [
    "#image augumentation : Inorder to avoid overfitting we apply geometric transformation like moving certain number of pixels\n",
    "#zoom in , horizontal flips. Training dataset now consists of a combination of both augumented images and original images.\n",
    "train_datagen = ImageDataGenerator(rescale = 1./255, #feature scaling\n",
    "                                   shear_range = 0.2,\n",
    "                                   zoom_range = 0.2,\n",
    "                                   horizontal_flip = True)\n",
    "training_set = train_datagen.flow_from_directory('C:/Users/Pavithre B Shetty/Desktop/web/cnn/dataset/training_set',\n",
    "                                                 target_size = (64, 64),\n",
    "                                                 batch_size = 32,\n",
    "                                                 class_mode = 'binary') # or categorical"
   ]
  },
  {
   "cell_type": "code",
   "execution_count": 5,
   "metadata": {},
   "outputs": [
    {
     "name": "stdout",
     "output_type": "stream",
     "text": [
      "Found 2000 images belonging to 2 classes.\n"
     ]
    }
   ],
   "source": [
    "test_datagen = ImageDataGenerator(rescale = 1./255)\n",
    "test_set = test_datagen.flow_from_directory('C:/Users/Pavithre B Shetty/Desktop/web/cnn/dataset/test_set',\n",
    "                                            target_size = (64, 64),\n",
    "                                            batch_size = 32,\n",
    "                                            class_mode = 'binary')"
   ]
  },
  {
   "cell_type": "code",
   "execution_count": 7,
   "metadata": {},
   "outputs": [],
   "source": [
    "cnn = tf.keras.models.Sequential()"
   ]
  },
  {
   "cell_type": "code",
   "execution_count": 8,
   "metadata": {},
   "outputs": [],
   "source": [
    "cnn.add(tf.keras.layers.Conv2D(filters=32, kernel_size=3, activation='relu', input_shape=[64, 64, 3]))"
   ]
  },
  {
   "cell_type": "code",
   "execution_count": 9,
   "metadata": {},
   "outputs": [],
   "source": [
    "cnn.add(tf.keras.layers.MaxPool2D(pool_size=2, strides=2))"
   ]
  },
  {
   "cell_type": "code",
   "execution_count": 10,
   "metadata": {},
   "outputs": [],
   "source": [
    "cnn.add(tf.keras.layers.Conv2D(filters=32, kernel_size=3, activation='relu'))\n",
    "cnn.add(tf.keras.layers.MaxPool2D(pool_size=2, strides=2))"
   ]
  },
  {
   "cell_type": "code",
   "execution_count": 11,
   "metadata": {},
   "outputs": [],
   "source": [
    "cnn.add(tf.keras.layers.Flatten())"
   ]
  },
  {
   "cell_type": "code",
   "execution_count": 12,
   "metadata": {},
   "outputs": [],
   "source": [
    "cnn.add(tf.keras.layers.Dense(units=128, activation='relu'))"
   ]
  },
  {
   "cell_type": "code",
   "execution_count": 13,
   "metadata": {},
   "outputs": [],
   "source": [
    "cnn.add(tf.keras.layers.Dense(units=1, activation='sigmoid'))"
   ]
  },
  {
   "cell_type": "code",
   "execution_count": 14,
   "metadata": {},
   "outputs": [],
   "source": [
    "cnn.compile(optimizer = 'adam', loss = 'binary_crossentropy', metrics = ['accuracy'])"
   ]
  },
  {
   "cell_type": "code",
   "execution_count": 15,
   "metadata": {},
   "outputs": [
    {
     "name": "stdout",
     "output_type": "stream",
     "text": [
      "WARNING:tensorflow:sample_weight modes were coerced from\n",
      "  ...\n",
      "    to  \n",
      "  ['...']\n",
      "WARNING:tensorflow:sample_weight modes were coerced from\n",
      "  ...\n",
      "    to  \n",
      "  ['...']\n",
      "Train for 250 steps, validate for 63 steps\n",
      "Epoch 1/25\n",
      "250/250 [==============================] - 188s 751ms/step - loss: 0.6725 - accuracy: 0.5817 - val_loss: 0.6124 - val_accuracy: 0.6855\n",
      "Epoch 2/25\n",
      "250/250 [==============================] - 58s 231ms/step - loss: 0.6066 - accuracy: 0.6775 - val_loss: 0.5558 - val_accuracy: 0.7170\n",
      "Epoch 3/25\n",
      "250/250 [==============================] - 57s 229ms/step - loss: 0.5641 - accuracy: 0.7101 - val_loss: 0.5645 - val_accuracy: 0.7010\n",
      "Epoch 4/25\n",
      "250/250 [==============================] - 56s 222ms/step - loss: 0.5312 - accuracy: 0.7339 - val_loss: 0.5056 - val_accuracy: 0.7625\n",
      "Epoch 5/25\n",
      "250/250 [==============================] - 56s 225ms/step - loss: 0.5056 - accuracy: 0.7517 - val_loss: 0.5261 - val_accuracy: 0.7425\n",
      "Epoch 6/25\n",
      "250/250 [==============================] - 55s 222ms/step - loss: 0.4835 - accuracy: 0.7716 - val_loss: 0.4985 - val_accuracy: 0.7655\n",
      "Epoch 7/25\n",
      "250/250 [==============================] - 59s 235ms/step - loss: 0.4768 - accuracy: 0.7711 - val_loss: 0.4904 - val_accuracy: 0.7785\n",
      "Epoch 8/25\n",
      "250/250 [==============================] - 68s 273ms/step - loss: 0.4612 - accuracy: 0.7746 - val_loss: 0.4855 - val_accuracy: 0.7855\n",
      "Epoch 9/25\n",
      "250/250 [==============================] - 57s 228ms/step - loss: 0.4547 - accuracy: 0.7884 - val_loss: 0.4540 - val_accuracy: 0.7990\n",
      "Epoch 10/25\n",
      "250/250 [==============================] - 56s 223ms/step - loss: 0.4277 - accuracy: 0.8008 - val_loss: 0.4552 - val_accuracy: 0.7890\n",
      "Epoch 11/25\n",
      "250/250 [==============================] - 56s 224ms/step - loss: 0.4211 - accuracy: 0.8045 - val_loss: 0.4640 - val_accuracy: 0.7910\n",
      "Epoch 12/25\n",
      "250/250 [==============================] - 56s 223ms/step - loss: 0.4179 - accuracy: 0.8108 - val_loss: 0.4557 - val_accuracy: 0.7915\n",
      "Epoch 13/25\n",
      "250/250 [==============================] - 61s 243ms/step - loss: 0.3998 - accuracy: 0.8176 - val_loss: 0.4784 - val_accuracy: 0.7845\n",
      "Epoch 14/25\n",
      "250/250 [==============================] - 57s 227ms/step - loss: 0.3866 - accuracy: 0.8244 - val_loss: 0.4512 - val_accuracy: 0.8065\n",
      "Epoch 15/25\n",
      "250/250 [==============================] - 56s 223ms/step - loss: 0.3760 - accuracy: 0.8290 - val_loss: 0.4436 - val_accuracy: 0.8015\n",
      "Epoch 16/25\n",
      "250/250 [==============================] - 56s 224ms/step - loss: 0.3689 - accuracy: 0.8330 - val_loss: 0.4777 - val_accuracy: 0.7835\n",
      "Epoch 17/25\n",
      "250/250 [==============================] - 56s 225ms/step - loss: 0.3604 - accuracy: 0.8420 - val_loss: 0.4614 - val_accuracy: 0.7960\n",
      "Epoch 18/25\n",
      "250/250 [==============================] - 56s 224ms/step - loss: 0.3429 - accuracy: 0.8478 - val_loss: 0.4606 - val_accuracy: 0.7990\n",
      "Epoch 19/25\n",
      "250/250 [==============================] - 56s 224ms/step - loss: 0.3327 - accuracy: 0.8524 - val_loss: 0.4713 - val_accuracy: 0.7965\n",
      "Epoch 20/25\n",
      "250/250 [==============================] - 57s 228ms/step - loss: 0.3296 - accuracy: 0.8530 - val_loss: 0.5035 - val_accuracy: 0.7900\n",
      "Epoch 21/25\n",
      "250/250 [==============================] - 56s 224ms/step - loss: 0.3191 - accuracy: 0.8614 - val_loss: 0.4765 - val_accuracy: 0.7985\n",
      "Epoch 22/25\n",
      "250/250 [==============================] - 56s 224ms/step - loss: 0.3023 - accuracy: 0.8664 - val_loss: 0.4885 - val_accuracy: 0.8065\n",
      "Epoch 23/25\n",
      "250/250 [==============================] - 56s 225ms/step - loss: 0.2994 - accuracy: 0.8674 - val_loss: 0.4639 - val_accuracy: 0.8105\n",
      "Epoch 24/25\n",
      "250/250 [==============================] - 56s 226ms/step - loss: 0.2930 - accuracy: 0.8705 - val_loss: 0.4997 - val_accuracy: 0.7985\n",
      "Epoch 25/25\n",
      "250/250 [==============================] - 56s 226ms/step - loss: 0.2699 - accuracy: 0.8860 - val_loss: 0.4989 - val_accuracy: 0.7945\n"
     ]
    },
    {
     "data": {
      "text/plain": [
       "<tensorflow.python.keras.callbacks.History at 0x2040bd61448>"
      ]
     },
     "execution_count": 15,
     "metadata": {},
     "output_type": "execute_result"
    }
   ],
   "source": [
    "cnn.fit(x = training_set, validation_data = test_set, epochs = 25)"
   ]
  },
  {
   "cell_type": "code",
   "execution_count": 16,
   "metadata": {},
   "outputs": [],
   "source": [
    "import numpy as np\n",
    "from keras.preprocessing import image\n",
    "def test_image(test_img):\n",
    "    test_image = image.load_img(test_img, target_size = (64, 64))\n",
    "    test_image = image.img_to_array(test_image)\n",
    "    test_image = np.expand_dims(test_image, axis = 0)\n",
    "    result = cnn.predict(test_image)\n",
    "    score = float(cnn.predict(test_image))\n",
    "    print(score)\n",
    "    print(result)\n",
    "    training_set.class_indices\n",
    "    if result[0][0] == 1:\n",
    "      prediction = 'dog'\n",
    "    else:\n",
    "      prediction = 'cat'\n",
    "    return prediction"
   ]
  },
  {
   "cell_type": "code",
   "execution_count": 17,
   "metadata": {},
   "outputs": [
    {
     "name": "stdout",
     "output_type": "stream",
     "text": [
      "0.0\n",
      "[[0.]]\n",
      "cat\n"
     ]
    }
   ],
   "source": [
    "result = test_image('c:/Users/Pavithre B Shetty/Desktop/web/cnn/dataset/single_prediction/cat_or_dog_2.jpg')\n",
    "print(result)\n"
   ]
  },
  {
   "cell_type": "code",
   "execution_count": 18,
   "metadata": {},
   "outputs": [
    {
     "name": "stdout",
     "output_type": "stream",
     "text": [
      "Connecting to wss://anvil.works/uplink\n",
      "Anvil websocket open\n",
      "Connected to \"Default environment (dev)\" as SERVER\n"
     ]
    }
   ],
   "source": [
    "import anvil.server\n",
    "\n",
    "anvil.server.connect(\"AJ33F4WXAW4FV2YEOQFLR5IZ-WFJUZIYQ2QJPQ4L6\")"
   ]
  },
  {
   "cell_type": "code",
   "execution_count": 19,
   "metadata": {},
   "outputs": [],
   "source": [
    "import anvil.media\n",
    "\n",
    "@anvil.server.callable\n",
    "def classify_image(img_file):\n",
    "    with anvil.media.TempFile(img_file) as test_img:\n",
    "        test_image = image.load_img(test_img, target_size = (64, 64))\n",
    "        test_image = image.img_to_array(test_image)\n",
    "        test_image = np.expand_dims(test_image, axis = 0)\n",
    "        result = cnn.predict(test_image)\n",
    "        score = float(cnn.predict(test_image))\n",
    "#       print(score)\n",
    "#       print(result)\n",
    "        training_set.class_indices\n",
    "        if result[0][0] == 1:\n",
    "            prediction = 'dog'\n",
    "        else:\n",
    "            prediction = 'cat'\n",
    "        return prediction\n",
    "    "
   ]
  },
  {
   "cell_type": "code",
   "execution_count": null,
   "metadata": {},
   "outputs": [],
   "source": []
  }
 ],
 "metadata": {
  "kernelspec": {
   "display_name": "Python 3",
   "language": "python",
   "name": "python3"
  },
  "language_info": {
   "codemirror_mode": {
    "name": "ipython",
    "version": 3
   },
   "file_extension": ".py",
   "mimetype": "text/x-python",
   "name": "python",
   "nbconvert_exporter": "python",
   "pygments_lexer": "ipython3",
   "version": "3.8.3"
  }
 },
 "nbformat": 4,
 "nbformat_minor": 4
}
